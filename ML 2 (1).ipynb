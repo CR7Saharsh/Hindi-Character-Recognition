{
 "cells": [
  {
   "cell_type": "code",
   "execution_count": 1,
   "id": "b19c8ea9",
   "metadata": {},
   "outputs": [
    {
     "name": "stdout",
     "output_type": "stream",
     "text": [
      "Requirement already satisfied: opencv-python in c:\\users\\shikh\\anaconda3\\lib\\site-packages (4.7.0.72)\n",
      "Requirement already satisfied: numpy>=1.19.3 in c:\\users\\shikh\\anaconda3\\lib\\site-packages (from opencv-python) (1.21.5)\n",
      "Note: you may need to restart the kernel to use updated packages.\n"
     ]
    }
   ],
   "source": [
    "pip install opencv-python "
   ]
  },
  {
   "cell_type": "markdown",
   "id": "47f47328",
   "metadata": {},
   "source": [
    "## Load Packages"
   ]
  },
  {
   "cell_type": "code",
   "execution_count": 2,
   "id": "f7d764df",
   "metadata": {},
   "outputs": [],
   "source": [
    "import numpy as np\n",
    "import pandas as pd\n",
    "import matplotlib.pyplot as plt\n",
    "from sklearn.model_selection import train_test_split\n",
    "from sklearn.metrics import accuracy_score\n",
    "from sklearn.neural_network import MLPClassifier\n",
    "from sklearn.svm import SVC"
   ]
  },
  {
   "cell_type": "markdown",
   "id": "1255ae28",
   "metadata": {},
   "source": [
    "## Create dataset"
   ]
  },
  {
   "cell_type": "code",
   "execution_count": 3,
   "id": "44167c3a",
   "metadata": {},
   "outputs": [
    {
     "name": "stdout",
     "output_type": "stream",
     "text": [
      "['character_10_yna', 'character_11_taamatar', 'character_12_thaa', 'character_13_daa', 'character_14_dhaa', 'character_15_adna', 'character_16_tabala', 'character_17_tha', 'character_18_da', 'character_19_dha']\n"
     ]
    }
   ],
   "source": [
    "import os\n",
    "path=\"D:/SHIKHA/MSc AI/2nd Sem/Machine Learning/ML Project 2/DevanagariHandwrittenCharacterDataset/Train/\"\n",
    "files= os.listdir(path)[:10]\n",
    "print(files)\n",
    "\n",
    "classes={\"character_10_yna\":0, \"character_11_taamatar\":1,\"character_12_thaa\":2, \"character_13_daa\":3, \"character_14_dhaa\":4,\"character_15_adna\":5, \"character_16_tabala\":6, \"character_17_tha\":7,\"character_18_da\":8,\"character_18_da\":9}"
   ]
  },
  {
   "cell_type": "code",
   "execution_count": 4,
   "id": "42602446",
   "metadata": {},
   "outputs": [
    {
     "name": "stdout",
     "output_type": "stream",
     "text": [
      "Dataset created successfully\n"
     ]
    }
   ],
   "source": [
    "import cv2\n",
    "\n",
    "X=[]\n",
    "Y=[]\n",
    "\n",
    "for c1 in classes:\n",
    "    pth=path+c1\n",
    "    for img_name in os.listdir(pth):\n",
    "        img=cv2.imread(pth+\"/\"+img_name, 0)\n",
    "        X.append(img)\n",
    "        Y.append(classes[c1])\n",
    "print(\"Dataset created successfully\")"
   ]
  },
  {
   "cell_type": "code",
   "execution_count": 5,
   "id": "b465fc13",
   "metadata": {},
   "outputs": [
    {
     "data": {
      "text/plain": [
       "0    1700\n",
       "1    1700\n",
       "2    1700\n",
       "3    1700\n",
       "4    1700\n",
       "5    1700\n",
       "6    1700\n",
       "7    1700\n",
       "9    1700\n",
       "dtype: int64"
      ]
     },
     "execution_count": 5,
     "metadata": {},
     "output_type": "execute_result"
    }
   ],
   "source": [
    "pd.Series(Y).value_counts()"
   ]
  },
  {
   "cell_type": "code",
   "execution_count": 6,
   "id": "b0d9ef1d",
   "metadata": {},
   "outputs": [
    {
     "data": {
      "text/plain": [
       "(32, 32)"
      ]
     },
     "execution_count": 6,
     "metadata": {},
     "output_type": "execute_result"
    }
   ],
   "source": [
    "X[0].shape"
   ]
  },
  {
   "cell_type": "code",
   "execution_count": 7,
   "id": "00c819ad",
   "metadata": {},
   "outputs": [
    {
     "name": "stdout",
     "output_type": "stream",
     "text": [
      "<class 'list'>\n"
     ]
    }
   ],
   "source": [
    "print(type(X))"
   ]
  },
  {
   "cell_type": "code",
   "execution_count": 8,
   "id": "77537393",
   "metadata": {},
   "outputs": [
    {
     "name": "stdout",
     "output_type": "stream",
     "text": [
      "<class 'numpy.ndarray'>\n"
     ]
    }
   ],
   "source": [
    "X=np.array(X)\n",
    "Y=np.array(Y)\n",
    "print(type(X))"
   ]
  },
  {
   "cell_type": "markdown",
   "id": "879eda96",
   "metadata": {},
   "source": [
    "## Analyze data"
   ]
  },
  {
   "cell_type": "code",
   "execution_count": 9,
   "id": "6f8168d6",
   "metadata": {},
   "outputs": [
    {
     "name": "stdout",
     "output_type": "stream",
     "text": [
      "0\n"
     ]
    },
    {
     "data": {
      "image/png": "[encoded data removed]",
      "text/plain": [
       "<Figure size 200x200 with 1 Axes>"
      ]
     },
     "metadata": {},
     "output_type": "display_data"
    }
   ],
   "source": [
    "plt.figure(figsize=(2,2))\n",
    "plt.imshow(X[100], cmap=\"gray\")\n",
    "print(Y[100])"
   ]
  },
  {
   "cell_type": "markdown",
   "id": "ce6bba71",
   "metadata": {},
   "source": [
    "## Prepare Data"
   ]
  },
  {
   "cell_type": "code",
   "execution_count": 10,
   "id": "45848e76",
   "metadata": {},
   "outputs": [
    {
     "name": "stdout",
     "output_type": "stream",
     "text": [
      "(15300, 1024)\n",
      "(15300,)\n"
     ]
    }
   ],
   "source": [
    "X_new=X.reshape(len(X),-1)\n",
    "print(X_new.shape)\n",
    "print(Y.shape)"
   ]
  },
  {
   "cell_type": "code",
   "execution_count": 11,
   "id": "2be26f66",
   "metadata": {},
   "outputs": [
    {
     "data": {
      "text/plain": [
       "784"
      ]
     },
     "execution_count": 11,
     "metadata": {},
     "output_type": "execute_result"
    }
   ],
   "source": [
    "28*28"
   ]
  },
  {
   "cell_type": "code",
   "execution_count": 12,
   "id": "4ca27d57",
   "metadata": {},
   "outputs": [
    {
     "name": "stdout",
     "output_type": "stream",
     "text": [
      "(15300, 32, 32)\n",
      "3\n",
      "2\n"
     ]
    }
   ],
   "source": [
    "print(X.shape)\n",
    "print(X.ndim)\n",
    "print(X_new.ndim)"
   ]
  },
  {
   "cell_type": "markdown",
   "id": "c00d0b5f",
   "metadata": {},
   "source": [
    "## Split Data"
   ]
  },
  {
   "cell_type": "code",
   "execution_count": 13,
   "id": "d5e8550e",
   "metadata": {},
   "outputs": [],
   "source": [
    "xtrain,xtest,ytrain,ytest= train_test_split(X_new,Y, test_size=0.2, random_state=10)"
   ]
  },
  {
   "cell_type": "code",
   "execution_count": 14,
   "id": "32f0a1d9",
   "metadata": {},
   "outputs": [
    {
     "name": "stdout",
     "output_type": "stream",
     "text": [
      "(12240, 1024) (12240,)\n",
      "(3060, 1024) (3060,)\n"
     ]
    }
   ],
   "source": [
    "print(xtrain.shape, ytrain.shape)\n",
    "print(xtest.shape, ytest.shape)"
   ]
  },
  {
   "cell_type": "markdown",
   "id": "16cde2ef",
   "metadata": {},
   "source": [
    "## Feature scaling"
   ]
  },
  {
   "cell_type": "code",
   "execution_count": 15,
   "id": "ee1064a0",
   "metadata": {},
   "outputs": [
    {
     "name": "stdout",
     "output_type": "stream",
     "text": [
      "255\n",
      "255\n",
      "1.0\n",
      "1.0\n"
     ]
    }
   ],
   "source": [
    "print(xtrain.max())\n",
    "print(xtest.max())\n",
    "x_train=xtrain/255\n",
    "x_test=xtest/255\n",
    "print(x_train.max())\n",
    "print(x_test.max())"
   ]
  },
  {
   "cell_type": "markdown",
   "id": "21c3f9b7",
   "metadata": {},
   "source": [
    "## Feature selection : PCA"
   ]
  },
  {
   "cell_type": "code",
   "execution_count": 16,
   "id": "e843ebd5",
   "metadata": {},
   "outputs": [],
   "source": [
    "from sklearn.decomposition import PCA"
   ]
  },
  {
   "cell_type": "code",
   "execution_count": 17,
   "id": "66943fec",
   "metadata": {},
   "outputs": [
    {
     "name": "stdout",
     "output_type": "stream",
     "text": [
      "(12240, 1024) (3060, 1024)\n",
      "(12240, 189) (3060, 189)\n",
      "0.96\n",
      "1024\n"
     ]
    }
   ],
   "source": [
    "print(x_train.shape, x_test.shape)\n",
    "pca=PCA(.96)\n",
    "xtrain=pca.fit_transform(x_train)\n",
    "xtest=pca.transform(x_test)\n",
    "print(xtrain.shape, xtest.shape)\n",
    "print(pca.n_components)\n",
    "print(pca.n_features_)"
   ]
  },
  {
   "cell_type": "code",
   "execution_count": 18,
   "id": "f0bb5522",
   "metadata": {},
   "outputs": [
    {
     "data": {
      "text/plain": [
       "array([6, 5, 0, 5, 4, 7, 7, 6, 7, 3])"
      ]
     },
     "execution_count": 18,
     "metadata": {},
     "output_type": "execute_result"
    }
   ],
   "source": [
    "ytest[:10]"
   ]
  },
  {
   "cell_type": "code",
   "execution_count": 26,
   "id": "6c63115f",
   "metadata": {},
   "outputs": [
    {
     "data": {
      "text/plain": [
       "(15300, 3)"
      ]
     },
     "execution_count": 26,
     "metadata": {},
     "output_type": "execute_result"
    }
   ],
   "source": [
    "from sklearn.manifold import TSNE\n",
    "t_sne = TSNE(n_components=3, learning_rate='auto',init='random')\n",
    "X_embedded= t_sne.fit_transform(X_new)\n",
    "X_embedded.shape"
   ]
  },
  {
   "cell_type": "markdown",
   "id": "d47bc1a2",
   "metadata": {},
   "source": [
    "Neural network"
   ]
  },
  {
   "cell_type": "code",
   "execution_count": 27,
   "id": "cbbe28b5",
   "metadata": {},
   "outputs": [
    {
     "data": {
      "text/plain": [
       "MLPClassifier(hidden_layer_sizes=(50, 25), max_iter=100)"
      ]
     },
     "execution_count": 27,
     "metadata": {},
     "output_type": "execute_result"
    }
   ],
   "source": [
    "model1= MLPClassifier(hidden_layer_sizes=(50, 25), max_iter=100, activation='relu')\n",
    "model1.fit(xtrain, ytrain)"
   ]
  },
  {
   "cell_type": "code",
   "execution_count": 28,
   "id": "c560c3cc",
   "metadata": {},
   "outputs": [
    {
     "data": {
      "text/plain": [
       "1.0"
      ]
     },
     "execution_count": 28,
     "metadata": {},
     "output_type": "execute_result"
    }
   ],
   "source": [
    "x_train_prediction=model1.predict(xtrain)\n",
    "training_data_accuracy=accuracy_score(x_train_prediction,ytrain)\n",
    "training_data_accuracy"
   ]
  },
  {
   "cell_type": "code",
   "execution_count": 29,
   "id": "256e452e",
   "metadata": {},
   "outputs": [
    {
     "data": {
      "text/plain": [
       "0.9529411764705882"
      ]
     },
     "execution_count": 29,
     "metadata": {},
     "output_type": "execute_result"
    }
   ],
   "source": [
    "x_test_prediction=model1.predict(xtest)\n",
    "testing_data_accuracy=accuracy_score(x_test_prediction,ytest)\n",
    "testing_data_accuracy"
   ]
  },
  {
   "cell_type": "markdown",
   "id": "9cf853c7",
   "metadata": {},
   "source": [
    "Support vector machine"
   ]
  },
  {
   "cell_type": "code",
   "execution_count": 23,
   "id": "5220a712",
   "metadata": {},
   "outputs": [
    {
     "data": {
      "text/plain": [
       "SVC()"
      ]
     },
     "execution_count": 23,
     "metadata": {},
     "output_type": "execute_result"
    }
   ],
   "source": [
    "model2= SVC()\n",
    "model2.fit(xtrain,ytrain)"
   ]
  },
  {
   "cell_type": "code",
   "execution_count": 24,
   "id": "a461f026",
   "metadata": {},
   "outputs": [
    {
     "data": {
      "text/plain": [
       "0.9938725490196079"
      ]
     },
     "execution_count": 24,
     "metadata": {},
     "output_type": "execute_result"
    }
   ],
   "source": [
    "xtrain_prediction=model2.predict(xtrain)\n",
    "training_data_accuracy=accuracy_score(xtrain_prediction,ytrain)\n",
    "training_data_accuracy"
   ]
  },
  {
   "cell_type": "code",
   "execution_count": 25,
   "id": "45e0f390",
   "metadata": {},
   "outputs": [
    {
     "data": {
      "text/plain": [
       "0.9803921568627451"
      ]
     },
     "execution_count": 25,
     "metadata": {},
     "output_type": "execute_result"
    }
   ],
   "source": [
    "xtest_prediction=model2.predict(xtest)\n",
    "testing_data_accuracy=accuracy_score(xtest_prediction,ytest)\n",
    "testing_data_accuracy"
   ]
  }
 ],
 "metadata": {
  "kernelspec": {
   "display_name": "Python 3 (ipykernel)",
   "language": "python",
   "name": "python3"
  },
  "language_info": {
   "codemirror_mode": {
    "name": "ipython",
    "version": 3
   },
   "file_extension": ".py",
   "mimetype": "text/x-python",
   "name": "python",
   "nbconvert_exporter": "python",
   "pygments_lexer": "ipython3",
   "version": "3.10.6"
  }
 },
 "nbformat": 4,
 "nbformat_minor": 5
}
